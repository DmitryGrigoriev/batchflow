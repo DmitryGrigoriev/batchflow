{
 "cells": [
  {
   "cell_type": "code",
   "execution_count": 315,
   "metadata": {
    "collapsed": true
   },
   "outputs": [],
   "source": [
    "import numpy as np\n",
    "from skimage.draw import circle, polygon\n",
    "\n",
    "from batchflow import ImagesBatch, action, Dataset, inbatch_parallel, any_action_failed\n",
    "from src import show_samples"
   ]
  },
  {
   "cell_type": "code",
   "execution_count": 316,
   "metadata": {
    "collapsed": true
   },
   "outputs": [],
   "source": [
    "def creating_images(size, r_min, r_max):\n",
    "    img = np.zeros((size, size, 2))\n",
    "    loc = []\n",
    "    vals = [255, 255]\n",
    "    for f,v in zip([\"c\", \"s\"], vals):\n",
    "        r = np.random.randint(r_min, r_max + 1)\n",
    "        xc, yc = np.random.randint(r, size - r + 1, 2)\n",
    "        if f == \"c\":\n",
    "             mask = circle(xc, yc, r, (size, size))\n",
    "        if f == \"s\":\n",
    "             mask = polygon((xc - r, xc + r, xc + r, xc - r),\n",
    "                            (yc - r, yc - r, yc + r, yc + r), (size, size))\n",
    "        img[:, :, [\"c\", \"s\"].index(f)][mask] = v\n",
    "        loc.append([xc, yc, r])\n",
    "    return img, np.array(loc)"
   ]
  },
  {
   "cell_type": "code",
   "execution_count": 317,
   "metadata": {
    "collapsed": true
   },
   "outputs": [],
   "source": [
    "class ShapesBatch(ImagesBatch):\n",
    "    \n",
    "    def __init__(self, index, preloaded=None):\n",
    "        super().__init__(index, preloaded)\n",
    "    \n",
    "    @action\n",
    "    @inbatch_parallel(init=\"indices\", post=\"_assemble_batch\")\n",
    "    def creating_images(self, i, size, r_min=2, r_max=None):\n",
    "        \"\"\"Generate images with geometrical shapes.\n",
    "        \"\"\"\n",
    "        if r_max is None:\n",
    "            r_max = size // 2\n",
    "        return creating_images(size, r_min, r_max)\n",
    "    \n",
    "    def _assemble_batch(self, results, *args, **kwargs):\n",
    "        \"\"\"Concatenate results of different workers.\n",
    "        \"\"\"\n",
    "        _ = args, kwargs\n",
    "        img, loc = list(zip(*results))\n",
    "        img = np.stack(img)\n",
    "        loc = np.stack(loc)\n",
    "        self.images = np.clip(img.sum(axis=-1, keepdims=True), 0, 255)\n",
    "        self.labels = loc[:, 0, :2]\n",
    "        img[:,:,:,0][img[:,:,:,0] == 255]=1\n",
    "        img[:,:,:,1][img[:,:,:,1] == 255]=2\n",
    "        self.masks = np.clip(img.sum(axis=-1, keepdims=True), 0, np.unique(img.sum(axis=-1, keepdims=True))[-2])\n",
    "        return self"
   ]
  },
  {
   "cell_type": "code",
   "execution_count": 318,
   "metadata": {
    "collapsed": true
   },
   "outputs": [],
   "source": [
    "Images = Dataset(10000, ShapesBatch)"
   ]
  },
  {
   "cell_type": "code",
   "execution_count": 319,
   "metadata": {},
   "outputs": [
    {
     "data": {
      "image/png": "[encoded data removed]",
      "text/plain": [
       "<matplotlib.figure.Figure at 0x19a75fd49e8>"
      ]
     },
     "metadata": {},
     "output_type": "display_data"
    }
   ],
   "source": [
    "size = 8\n",
    "batch = Images.next_batch(size).creating_images(100,  r_max=10)\n",
    "\n",
    "show_samples([batch.images[:, :, :, 0], batch.masks[:, :, :, 0]], row_titles=[\"Images\", \"Masks\"])"
   ]
  }
 ],
 "metadata": {
  "kernelspec": {
   "display_name": "Python 3",
   "language": "python",
   "name": "python3"
  },
  "language_info": {
   "codemirror_mode": {
    "name": "ipython",
    "version": 3
   },
   "file_extension": ".py",
   "mimetype": "text/x-python",
   "name": "python",
   "nbconvert_exporter": "python",
   "pygments_lexer": "ipython3",
   "version": "3.6.3"
  }
 },
 "nbformat": 4,
 "nbformat_minor": 2
}
